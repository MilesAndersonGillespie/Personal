{
  "nbformat": 4,
  "nbformat_minor": 0,
  "metadata": {
    "colab": {
      "provenance": [],
      "authorship_tag": "ABX9TyNFFPilg1IjNgmGczVR6mQm",
      "include_colab_link": true
    },
    "kernelspec": {
      "name": "python3",
      "display_name": "Python 3"
    },
    "language_info": {
      "name": "python"
    }
  },
  "cells": [
    {
      "cell_type": "markdown",
      "metadata": {
        "id": "view-in-github",
        "colab_type": "text"
      },
      "source": [
        "<a href=\"https://colab.research.google.com/github/MilesAndersonGillespie/Personal/blob/main/BTE_Codes.ipynb\" target=\"_parent\"><img src=\"https://colab.research.google.com/assets/colab-badge.svg\" alt=\"Open In Colab\"/></a>"
      ]
    },
    {
      "cell_type": "code",
      "execution_count": null,
      "metadata": {
        "id": "kep0pauDFRR1"
      },
      "outputs": [],
      "source": [
        "'''\n",
        "This code asks for the FICO Credit Score of the user and determines his/her eligibility.\n",
        "A FICO Credit Score greater than 700 is automatically approved.\n",
        "A FICO Credit Score greater than 500 but less than 700 requires manual review.\n",
        "A user with no FICO Credit Score (i.e., 0) requires manual underwriting.\n",
        "A FICO Credit Score less than 500 is automatically denied.\n",
        "'''\n",
        "\n",
        "fico = int(input('What is your FICO Credit Score? If you do not have a FICO Credit Score, type 0. '))\n",
        "# This section asks for the user's FICO Credit Score.\n",
        "\n",
        "if fico >= 700:\n",
        "  print('Loan granted!')\n",
        "elif fico >= 500:\n",
        "  print('Loan Requires Manual Review')\n",
        "elif fico == 0:\n",
        "  print('Loan Requires Manual Underwriting')\n",
        "else:\n",
        "  print('Loan Denied')\n",
        "#This section processes the provided FICO Credit Score and displays the results."
      ]
    },
    {
      "cell_type": "code",
      "source": [
        "'''\n",
        "This code asks for the numeric grade of the user and determines his/her letter grade.\n",
        "The letter grades follow the traditional format (97+:A+, 93-96.99:A, 90-92.99:B, 0-59.99:F).\n",
        "'''\n",
        "\n",
        "num_grade = float(input('What is your numeric grade? '))\n",
        "# This section asks for the user's numeric grade.\n",
        "\n",
        "if num_grade >= 97:\n",
        "  print('Your letter grade is an A+')\n",
        "elif num_grade >= 93:\n",
        "  print('Your letter grade is an A')\n",
        "elif num_grade >= 90:\n",
        "  print('Your letter grade is an A-')\n",
        "elif num_grade >= 87:\n",
        "  print('Your letter grade is a B+')\n",
        "elif num_grade >= 83:\n",
        "  print('Your letter grade is a B')\n",
        "elif num_grade >= 80:\n",
        "  print('Your letter grade is a B-')\n",
        "elif num_grade >= 77:\n",
        "  print('Your letter grade is a C+')\n",
        "elif num_grade >= 73:\n",
        "  print('Your letter grade is a C')\n",
        "elif num_grade >= 70:\n",
        "  print('Your letter grade is a C-')\n",
        "elif num_grade >= 67:\n",
        "  print('Your letter grade is a D+')\n",
        "elif num_grade >= 63:\n",
        "  print('Your letter grade is a D')\n",
        "elif num_grade >= 60:\n",
        "  print('Your letter grade is a D-')\n",
        "else:\n",
        "  print('Your letter grade is an F')\n",
        "  # This section processes the provided grade and displays the result."
      ],
      "metadata": {
        "id": "ax7gl1QqGgag"
      },
      "execution_count": null,
      "outputs": []
    },
    {
      "cell_type": "code",
      "source": [
        "'''\n",
        "This code asks for whether the user is a new or existing customer and the deposit amount.\n",
        "Afterwhich, it determines the correct interest rate and the total deposit amount.\n",
        "'''\n",
        "\n",
        "customer_type = input('Please enter customer type (N: new/ E: existing): ')\n",
        "deposit = float(input('Please enter deposit amount: '))\n",
        "# This section requests whether the user is a new or existing customer and the deposit amount.\n",
        "\n",
        "if customer_type == 'E' and deposit >= 10_000:\n",
        "  ir = 3.50\n",
        "elif customer_type == 'E' and deposit >= 1_000:\n",
        "  ir = 3.25\n",
        "elif customer_type == 'E' and deposit < 1_000:\n",
        "  ir = 3.00\n",
        "else:\n",
        "  ir = 4.00\n",
        "# This section determines the correct interest rate\n",
        "\n",
        "total = (1 + ir /100) * deposit\n",
        "print(f'Total Deposit: ${total}')\n",
        "# This section calculates the total deposit and displays it for the user."
      ],
      "metadata": {
        "id": "kNEUzQKLM-Jk"
      },
      "execution_count": null,
      "outputs": []
    },
    {
      "cell_type": "code",
      "source": [
        "'''\n",
        "This code asks the user for a number and determines whether it is even or odd.\n",
        "'''\n",
        "\n",
        "x = float(input('Please enter number: '))\n",
        "# This section requests the number from the user.\n",
        "\n",
        "if x % 2 == 0:\n",
        "  print('Even')\n",
        "else:\n",
        "  print('Odd')\n",
        "# This section determines whether the number is even or odd and displays the result."
      ],
      "metadata": {
        "id": "YLmQWG6cibkM"
      },
      "execution_count": null,
      "outputs": []
    },
    {
      "cell_type": "code",
      "source": [
        "'''\n",
        "This code asks the user for a number and determines whether it is even or odd.\n",
        "'''\n",
        "\n",
        "x = float(input('Please enter number: '))\n",
        "# This section requests the number from the user.\n",
        "\n",
        "result = 'even' if x % 2 == 0 else 'odd'\n",
        "print(result)\n",
        "# This section determines whether the number is even or odd and displays the result."
      ],
      "metadata": {
        "id": "7OzGcTPOibSU"
      },
      "execution_count": null,
      "outputs": []
    },
    {
      "cell_type": "code",
      "source": [
        "'''\n",
        "This code runs a countdown from ten to one useing 'for' and displays the countdown.\n",
        "'''\n",
        "\n",
        "for x in range(10,0,-1):\n",
        "  print(x, end=' ')"
      ],
      "metadata": {
        "id": "vk8MCS4h1bCE"
      },
      "execution_count": null,
      "outputs": []
    },
    {
      "cell_type": "code",
      "source": [
        "'''\n",
        "This code runs a countdown from ten to one useing 'for' and displays the countdown.\n",
        "'''\n",
        "\n",
        "for x in range(10,0,-1):\n",
        "  if x == 5:\n",
        "    continue\n",
        "  print(x, end=' ')"
      ],
      "metadata": {
        "id": "6_PPMnzHlGEB"
      },
      "execution_count": null,
      "outputs": []
    },
    {
      "cell_type": "code",
      "source": [
        "'''\n",
        "This code runs a countdown from ten to one useing 'for' and displays the countdown.\n",
        "'''\n",
        "\n",
        "for x in range(10,0,-1):\n",
        "  if x == 5:\n",
        "    break\n",
        "  print(x, end=' ')"
      ],
      "metadata": {
        "id": "AP3nYG-_mHYz"
      },
      "execution_count": null,
      "outputs": []
    },
    {
      "cell_type": "code",
      "source": [
        "'''\n",
        "This code creates a table displaying the square and cube of numbers 1-4.\n",
        "'''\n",
        "\n",
        "num = 1\n",
        "# This establishes the starting number as one.\n",
        "\n",
        "while num < 5:\n",
        "  print(num, num**2, num**3)\n",
        "  num = num + 1\n",
        "# This counts numbers 1-4 and displays them with their square and cube."
      ],
      "metadata": {
        "id": "xPpiKRH3brKn"
      },
      "execution_count": null,
      "outputs": []
    },
    {
      "cell_type": "code",
      "source": [
        "'''\n",
        "This code creates a table displaying the square and cube of numbers 1-4.\n",
        "'''\n",
        "\n",
        "for num in range(1,5):\n",
        "  print(num, num**2, num**3)"
      ],
      "metadata": {
        "id": "PkXrjul4e3DF"
      },
      "execution_count": null,
      "outputs": []
    },
    {
      "cell_type": "code",
      "source": [
        "'''\n",
        "This code displays \"This is a string.\" one letter at a time, one line at a time.\n",
        "'''\n",
        "\n",
        "h = \"This is a string.\" # This establishes variable h as \"This is a string.\"\n",
        "\n",
        "for idx in range(len(h)): # This displays variable h one character at a time, one line at a time.\n",
        "  print(h[idx])"
      ],
      "metadata": {
        "id": "rls8xxR-h9f9"
      },
      "execution_count": null,
      "outputs": []
    },
    {
      "cell_type": "code",
      "source": [
        "'''\n",
        "This code displays \"This is a string.\" one letter at a time, one line at a time.\n",
        "'''\n",
        "\n",
        "h = \"This is a string.\" # This establishes variable h as \"This is a string.\"\n",
        "\n",
        "for char in h: # This displays variable h one character at a time, one line at a time.\n",
        "  print(char)"
      ],
      "metadata": {
        "id": "Zeb_fpaIiVL1"
      },
      "execution_count": null,
      "outputs": []
    },
    {
      "cell_type": "code",
      "source": [
        "h = \"This is a string.\"\n",
        "w = \"Today is Saint Valentine's Day!\"\n",
        "for c in h:\n",
        "  if c in w:\n",
        "    print(c)"
      ],
      "metadata": {
        "id": "nBJra-szi61Z"
      },
      "execution_count": null,
      "outputs": []
    },
    {
      "cell_type": "code",
      "source": [
        "'''\n",
        "This code establishes list \"L\" and prints it with all of its initinal elements plus an additional two that are added.\n",
        "'''\n",
        "\n",
        "L = [1, 'two', 3.14, [4,5,6]] # This establishes list \"L\" with four initial elements.\n",
        "L.insert(2,'abcde') # This adds two elemnts to list \"L.\"\n",
        "print(L) # This displays list \"L.\""
      ],
      "metadata": {
        "id": "geqtXfY854vo"
      },
      "execution_count": null,
      "outputs": []
    },
    {
      "cell_type": "code",
      "source": [
        "'''\n",
        "This code establishes list \"L\" and prints it with all of its initinal elements minus one element.\n",
        "'''\n",
        "\n",
        "L = [1, 'two', 3.14, [4,5,6]] # This establishes list \"L\" with four initial elemts.\n",
        "L.pop(1) # This removes the #1 elemtent (i.e., the second) from list \"L.\"\n",
        "print(L) # This displays lit \"L.\""
      ],
      "metadata": {
        "id": "DDB-AVi29uXY"
      },
      "execution_count": null,
      "outputs": []
    },
    {
      "cell_type": "code",
      "source": [
        "'''\n",
        "This code establishes list \"L\" and prints it with all of its initinal elements arranged in ascending order.\n",
        "'''\n",
        "\n",
        "L = [1,5,2,4,3] # This establishes list \"L\" with five initial elements.\n",
        "L.sort(reverse=False) # This sorts the elements of list \"L\" into ascending order.\n",
        "print(L) # This displays list \"L.\""
      ],
      "metadata": {
        "id": "FwsaI3g1-PBH"
      },
      "execution_count": null,
      "outputs": []
    },
    {
      "cell_type": "code",
      "source": [
        "'''\n",
        "This code establishes list \"L\" and prints it with all of its initinal elements minus one element.\n",
        "'''\n",
        "\n",
        "L = [1,5,2,4,3] # This establishes list \"L\" with four initial elemts.\n",
        "L.remove(2) # This removes the #2 elemtent (i.e., the third) from list \"L.\"\n",
        "print(L) # This displays lit \"L.\""
      ],
      "metadata": {
        "id": "ZJV3RtrKE5n2"
      },
      "execution_count": null,
      "outputs": []
    }
  ]
}