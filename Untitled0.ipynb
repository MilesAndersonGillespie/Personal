{
  "nbformat": 4,
  "nbformat_minor": 0,
  "metadata": {
    "colab": {
      "provenance": [],
      "authorship_tag": "ABX9TyNg/mw9mbf6MinCSo/nuHLk",
      "include_colab_link": true
    },
    "kernelspec": {
      "name": "python3",
      "display_name": "Python 3"
    },
    "language_info": {
      "name": "python"
    }
  },
  "cells": [
    {
      "cell_type": "markdown",
      "metadata": {
        "id": "view-in-github",
        "colab_type": "text"
      },
      "source": [
        "<a href=\"https://colab.research.google.com/github/MilesAndersonGillespie/Personal/blob/main/Untitled0.ipynb\" target=\"_parent\"><img src=\"https://colab.research.google.com/assets/colab-badge.svg\" alt=\"Open In Colab\"/></a>"
      ]
    },
    {
      "cell_type": "code",
      "execution_count": null,
      "metadata": {
        "id": "kep0pauDFRR1"
      },
      "outputs": [],
      "source": [
        "fico = int(input('What is your FICO Credit Score? '))\n",
        "if fico >= 700:\n",
        "  print('Loan granted!')\n",
        "elif fico >= 500:\n",
        "  print('Loan Requires Manual Review')\n",
        "elif fico == 0:\n",
        "  print('Loan Requires Manual Underwriting')\n",
        "else:\n",
        "  print('Loan Denied')"
      ]
    },
    {
      "cell_type": "code",
      "source": [
        "num_grade = float(input('What is your numeric grade? '))\n",
        "if num_grade >= 97:\n",
        "  print('Your letter grade is an A+')\n",
        "elif num_grade >= 93:\n",
        "  print('Your letter grade is an A')\n",
        "elif num_grade >= 90:\n",
        "  print('Your letter grade is an A-')\n",
        "elif num_grade >= 87:\n",
        "  print('Your letter grade is a B+')\n",
        "elif num_grade >= 83:\n",
        "  print('Your letter grade is a B')\n",
        "elif num_grade >= 80:\n",
        "  print('Your letter grade is a B-')\n",
        "elif num_grade >= 77:\n",
        "  print('Your letter grade is a C+')\n",
        "elif num_grade >= 73:\n",
        "  print('Your letter grade is a C')\n",
        "elif num_grade >= 70:\n",
        "  print('Your letter grade is a C-')\n",
        "elif num_grade >= 67:\n",
        "  print('Your letter grade is a D+')\n",
        "elif num_grade >= 63:\n",
        "  print('Your letter grade is a D')\n",
        "elif num_grade >= 60:\n",
        "  print('Your letter grade is a D-')\n",
        "else:\n",
        "  print('Your letter grade is an F')"
      ],
      "metadata": {
        "id": "ax7gl1QqGgag"
      },
      "execution_count": null,
      "outputs": []
    },
    {
      "cell_type": "code",
      "source": [
        "from IPython.display import Image\n",
        "\n",
        "# URL of a cat image\n",
        "image_url = \"https://placekitten.com/200/300\"\n",
        "\n",
        "# Display the image\n",
        "Image(url=image_url)"
      ],
      "metadata": {
        "colab": {
          "base_uri": "https://localhost:8080/",
          "height": 34
        },
        "id": "a4H2eXHpKb1l",
        "outputId": "c74f3a84-9781-4299-dad4-bfe388747c01"
      },
      "execution_count": 22,
      "outputs": [
        {
          "output_type": "execute_result",
          "data": {
            "text/html": [
              "<img src=\"https://placekitten.com/200/300\"/>"
            ],
            "text/plain": [
              "<IPython.core.display.Image object>"
            ]
          },
          "metadata": {},
          "execution_count": 22
        }
      ]
    }
  ]
}